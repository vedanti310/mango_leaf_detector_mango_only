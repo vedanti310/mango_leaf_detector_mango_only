{
 "cells": [
  {
   "cell_type": "code",
   "execution_count": 2,
   "id": "67e96da6-5dab-48aa-8306-feaceebb8c62",
   "metadata": {},
   "outputs": [],
   "source": [
    "import pandas as pd\n",
    "from sklearn.model_selection import train_test_split\n",
    "from sklearn.preprocessing import StandardScaler\n",
    "\n",
    "# Load the RGB dataset\n",
    "df = pd.read_csv(\"mango_rgb_data.csv\")\n",
    "\n",
    "# Features and labels\n",
    "X = df[['R', 'G', 'B']]   # RGB columns as features\n",
    "y = df['Label']           # Label: 1 (mango), 0 (not mango)\n",
    "\n",
    "# Split data into training and test sets (80% train, 20% test)\n",
    "X_train, X_test, y_train, y_test = train_test_split(X, y, test_size=0.2, random_state=42)\n",
    "\n",
    "# Scale the RGB values (important for many models)\n",
    "scaler = StandardScaler()\n",
    "X_train_scaled = scaler.fit_transform(X_train)\n",
    "X_test_scaled = scaler.transform(X_test)\n"
   ]
  },
  {
   "cell_type": "code",
   "execution_count": 3,
   "id": "0ef8d325-530d-4a19-85c9-73c8b102e7a2",
   "metadata": {},
   "outputs": [
    {
     "name": "stdout",
     "output_type": "stream",
     "text": [
      "Accuracy: 1.0\n",
      "\n",
      "Classification Report:\n",
      "               precision    recall  f1-score   support\n",
      "\n",
      "           1       1.00      1.00      1.00        20\n",
      "\n",
      "    accuracy                           1.00        20\n",
      "   macro avg       1.00      1.00      1.00        20\n",
      "weighted avg       1.00      1.00      1.00        20\n",
      "\n"
     ]
    }
   ],
   "source": [
    "from sklearn.ensemble import RandomForestClassifier\n",
    "from sklearn.metrics import classification_report, accuracy_score\n",
    "\n",
    "# Train Random Forest classifier\n",
    "model = RandomForestClassifier(n_estimators=100, random_state=42)\n",
    "model.fit(X_train_scaled, y_train)\n",
    "\n",
    "# Predict\n",
    "y_pred = model.predict(X_test_scaled)\n",
    "\n",
    "# Evaluation\n",
    "print(\"Accuracy:\", accuracy_score(y_test, y_pred))\n",
    "print(\"\\nClassification Report:\\n\", classification_report(y_test, y_pred))\n"
   ]
  },
  {
   "cell_type": "code",
   "execution_count": 6,
   "id": "9394501e-cbcb-4340-b4ea-a603c7c3610b",
   "metadata": {},
   "outputs": [
    {
     "name": "stdout",
     "output_type": "stream",
     "text": [
      "Model saved as model.pkl\n"
     ]
    }
   ],
   "source": [
    "import joblib\n",
    "joblib.dump(model, \"model.pkl\")\n",
    "print(\"Model saved as model.pkl\")"
   ]
  },
  {
   "cell_type": "code",
   "execution_count": 1,
   "id": "6292d5f6-d823-4e62-ae36-e1c65c13bc6f",
   "metadata": {},
   "outputs": [
    {
     "name": "stdout",
     "output_type": "stream",
     "text": [
      "<class 'sklearn.ensemble._forest.RandomForestClassifier'>\n"
     ]
    }
   ],
   "source": [
    "import joblib\n",
    "model = joblib.load(\"model.pkl\")\n",
    "print(type(model))\n"
   ]
  },
  {
   "cell_type": "code",
   "execution_count": 2,
   "id": "d6fe9eb0-5f9c-40a0-ac93-51417150368f",
   "metadata": {},
   "outputs": [
    {
     "data": {
      "text/plain": [
       "['one_class_mango_model.pkl']"
      ]
     },
     "execution_count": 2,
     "metadata": {},
     "output_type": "execute_result"
    }
   ],
   "source": [
    "# mango_model_train.py\n",
    "import pandas as pd\n",
    "from sklearn.svm import OneClassSVM\n",
    "import joblib\n",
    "\n",
    "# Load your RGB CSV (only mango leaf data)\n",
    "df = pd.read_csv(\"mango_rgb_data.csv\")\n",
    "\n",
    "# Extract RGB features\n",
    "X = df[['R', 'G', 'B']].values\n",
    "\n",
    "# Train One-Class SVM\n",
    "model = OneClassSVM(kernel='rbf', nu=0.1, gamma='auto')\n",
    "model.fit(X)\n",
    "\n",
    "# Save model\n",
    "joblib.dump(model, \"one_class_mango_model.pkl\")\n"
   ]
  },
  {
   "cell_type": "code",
   "execution_count": null,
   "id": "27339e7c-0c43-4f26-8d65-8e4daf8f79b9",
   "metadata": {},
   "outputs": [],
   "source": []
  }
 ],
 "metadata": {
  "kernelspec": {
   "display_name": "Python 3 (ipykernel)",
   "language": "python",
   "name": "python3"
  },
  "language_info": {
   "codemirror_mode": {
    "name": "ipython",
    "version": 3
   },
   "file_extension": ".py",
   "mimetype": "text/x-python",
   "name": "python",
   "nbconvert_exporter": "python",
   "pygments_lexer": "ipython3",
   "version": "3.12.7"
  }
 },
 "nbformat": 4,
 "nbformat_minor": 5
}
