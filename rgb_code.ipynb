{
 "cells": [
  {
   "cell_type": "code",
   "execution_count": 3,
   "id": "f94dca9c-079e-490a-bb93-321f30f0a9a7",
   "metadata": {},
   "outputs": [],
   "source": [
    "import os\n",
    "import csv\n",
    "from PIL import Image\n",
    "import numpy as np"
   ]
  },
  {
   "cell_type": "code",
   "execution_count": 4,
   "id": "f45fe3a0-60d0-4ce0-b14b-9de6f97a42ce",
   "metadata": {},
   "outputs": [],
   "source": [
    "# Folder containing mango leaf images\n",
    "image_folder = \"mango_images\"\n",
    "output_csv = \"mango_rgb_data.csv\""
   ]
  },
  {
   "cell_type": "code",
   "execution_count": 5,
   "id": "bbd53f51-4330-461b-b22b-775458af984a",
   "metadata": {},
   "outputs": [],
   "source": [
    "# Step 2: Create CSV file and write header\n",
    "header = [\"Image\", \"R\", \"G\", \"B\", \"Label\"]\n"
   ]
  },
  {
   "cell_type": "code",
   "execution_count": 7,
   "id": "065e1010-30fc-42f3-b01c-2af787d773fb",
   "metadata": {},
   "outputs": [
    {
     "name": "stdout",
     "output_type": "stream",
     "text": [
      "✅ RGB values extracted and saved to mango_rgb_data.csv\n"
     ]
    }
   ],
   "source": [
    "# Open CSV for writing\n",
    "with open(output_csv, mode='w', newline='') as file:\n",
    "    writer = csv.writer(file)\n",
    "    writer.writerow(header)\n",
    "\n",
    "    # Loop through each image\n",
    "    for filename in os.listdir(image_folder):\n",
    "        if filename.lower().endswith(('.jpg', '.jpeg', '.png')):\n",
    "            path = os.path.join(image_folder, filename)\n",
    "            image = Image.open(path).convert('RGB')\n",
    "            np_img = np.array(image)\n",
    "\n",
    "            # Calculate average RGB values\n",
    "            avg_color = np.mean(np_img.reshape(-1, 3), axis=0)\n",
    "            r, g, b = avg_color.astype(int)\n",
    "\n",
    "            # Write to CSV with label 1 for mango leaf\n",
    "            writer.writerow([filename, r, g, b, 1])\n",
    "\n",
    "print(f\"✅ RGB values extracted and saved to {output_csv}\")"
   ]
  },
  {
   "cell_type": "code",
   "execution_count": null,
   "id": "12832d60-ace6-4389-b39a-feb46dbe9960",
   "metadata": {},
   "outputs": [],
   "source": []
  }
 ],
 "metadata": {
  "kernelspec": {
   "display_name": "Python 3 (ipykernel)",
   "language": "python",
   "name": "python3"
  },
  "language_info": {
   "codemirror_mode": {
    "name": "ipython",
    "version": 3
   },
   "file_extension": ".py",
   "mimetype": "text/x-python",
   "name": "python",
   "nbconvert_exporter": "python",
   "pygments_lexer": "ipython3",
   "version": "3.12.7"
  }
 },
 "nbformat": 4,
 "nbformat_minor": 5
}
